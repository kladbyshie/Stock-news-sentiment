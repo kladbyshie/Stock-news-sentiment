{
 "cells": [
  {
   "cell_type": "code",
   "execution_count": 40,
   "metadata": {},
   "outputs": [],
   "source": [
    "from newspaper import Article\n",
    "from selenium import webdriver\n",
    "import time\n",
    "from selenium.webdriver.common.keys import Keys\n",
    "import pandas as pd\n",
    "import plotly.graph_objects as go\n",
    "\n",
    "import nltk\n",
    "from nltk.sentiment.vader import SentimentIntensityAnalyzer"
   ]
  },
  {
   "cell_type": "code",
   "execution_count": 35,
   "metadata": {},
   "outputs": [],
   "source": [
    "#this is where all the params get defined\n",
    "stockname = 'FB'\n",
    "url = f'https://finance.yahoo.com/quote/{stockname}?p={stockname}&.tsrc=fin-srch'\n",
    "scrollmax = 20\n",
    "scrollcounter = 0"
   ]
  },
  {
   "cell_type": "code",
   "execution_count": 37,
   "metadata": {},
   "outputs": [],
   "source": [
    "#selenium web driver\n",
    "options = webdriver.ChromeOptions()\n",
    "options.add_argument('headless')\n",
    "options.add_argument('window-size=1200x600')\n",
    "\n",
    "driver = webdriver.Chrome(options=options)\n",
    "driver.get(url)\n",
    "page = driver.find_element_by_tag_name('html')\n",
    "\n",
    "#infin scroll solution, scrolls scrollmax times\n",
    "while scrollcounter < scrollmax:  \n",
    "    page.send_keys(Keys.END)\n",
    "    scrollcounter+=1\n",
    "    time.sleep(1)\n",
    "\n",
    "link = driver.find_elements_by_xpath('//*[@id=\"quoteNewsStream-0-Stream\"]/ul/li[*]/div/div/div[2]/h3/a')\n",
    "linklist = []\n",
    "for item in link:\n",
    "    href = item.get_attribute('href')\n",
    "    linklist.append(href)    \n",
    "driver.close()"
   ]
  },
  {
   "cell_type": "code",
   "execution_count": 43,
   "metadata": {},
   "outputs": [],
   "source": [
    "#article parser and downloader\n",
    "full = pd.DataFrame()\n",
    "for item in linklist:\n",
    "    try:\n",
    "        article = Article(item)\n",
    "        article.download()\n",
    "        article.parse()\n",
    "        title = article.title\n",
    "        authors = article.authors\n",
    "        body = article.text\n",
    "        date = article.publish_date.strftime('%D')\n",
    "        newdict = {'Title':title, 'Authors':authors, 'Date':date, 'Body':body}\n",
    "        full = full.append(newdict, ignore_index=True)\n",
    "    except:\n",
    "        pass"
   ]
  },
  {
   "cell_type": "code",
   "execution_count": null,
   "metadata": {},
   "outputs": [],
   "source": [
    "#vader analysis\n",
    "analyzer = SentimentIntensityAnalyzer()\n",
    "neg = []\n",
    "neu = []\n",
    "pos = []\n",
    "compound = []\n",
    "for item in full['Body']:\n",
    "    sentiment = analyzer.polarity_scores(item)\n",
    "    neg.append(sentiment['neg'])\n",
    "    neu.append(sentiment['neu'])\n",
    "    pos.append(sentiment['pos'])\n",
    "    compound.append(sentiment['compound'])\n",
    "\n",
    "full['NegSentiment'] = neg\n",
    "full['NeuSentiment'] = neu\n",
    "full['PosSentiment'] = pos\n",
    "full['CompoundSentiment'] = compound"
   ]
  },
  {
   "cell_type": "code",
   "execution_count": null,
   "metadata": {},
   "outputs": [],
   "source": [
    "#color generator (green for pos, red for neg)\n",
    "senticolor = []\n",
    "for item in full['CompoundSentiment']:\n",
    "    if item > 0:\n",
    "        senticolor.append('#c7d5ba')\n",
    "    else:\n",
    "        senticolor.append('#ff7a7a')\n",
    "\n",
    "#figure generator\n",
    "fig = go.Figure()\n",
    "fig.add_trace(go.Bar(\n",
    "    x= [full['Date'],full.index],\n",
    "    y= full['CompoundSentiment'],\n",
    "    marker_color = senticolor,\n",
    "    customdata = full['Title'],\n",
    "    hovertemplate = 'Title: %{customdata}; Sentiment: %{y}<extra></extra>'\n",
    "))\n",
    "\n",
    "fig.update_layout(title_text=f'{stockname} News Sentiment',\n",
    "                xaxis_title='Article index and date',\n",
    "                yaxis_title='Sentiment')\n",
    "\n",
    "return(fig.to_html())"
   ]
  }
 ],
 "metadata": {
  "kernelspec": {
   "display_name": "Python 3",
   "language": "python",
   "name": "python3"
  },
  "language_info": {
   "codemirror_mode": {
    "name": "ipython",
    "version": 3
   },
   "file_extension": ".py",
   "mimetype": "text/x-python",
   "name": "python",
   "nbconvert_exporter": "python",
   "pygments_lexer": "ipython3",
   "version": "3.7.4"
  }
 },
 "nbformat": 4,
 "nbformat_minor": 2
}
